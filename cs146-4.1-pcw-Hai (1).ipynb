{
 "cells": [
  {
   "cell_type": "markdown",
   "metadata": {},
   "source": [
    "# Normal likelihoods and normal-inverse-gamma priors\n",
    "\n",
    "Today we explore how samples from a prior distribution can be interpreted as instances of the likelihood function. Specifically, we look at how samples from a normal-inverse-gamma (NIG) distribution can be interpreted as normal distributions.\n",
    "\n",
    "**In short:** Each sample from the NIG distribution is a pair $(x, \\sigma^2)$. These values specify the mean and variance of a normal distribution and so we can think of the sample (the pair of values) as an instance of the normal distribution (which will be our likelihood function). More below.\n",
    "\n",
    "## Normal-inverse-gamma in SciPy\n",
    "\n",
    "Even though SciPy does have classes defined for the normal distribution (`scipy.stats.norm`) and the inverse-gamma distribution (`scipy.stats.invgamma`), it does not have one defined for the normal-inverse-gamma distribution. To help you, the functions below implement the probability density function and a sampler for the normal-inverse-gamma distribution."
   ]
  },
  {
   "cell_type": "code",
   "execution_count": 2,
   "metadata": {},
   "outputs": [],
   "source": [
    "import numpy as np\n",
    "import scipy.stats as sts\n",
    "import matplotlib.pyplot as plt"
   ]
  },
  {
   "cell_type": "markdown",
   "metadata": {},
   "source": [
    "### Calculating the prior hyperparameters###\n",
    "\n",
    "We are given that:\n",
    "\n",
    "The expected value of the mean is 2.3. This means the objective function will include (mu-2.3)^2.\n",
    "\n",
    "The standard deviation of the mean is 0.5, whose formula is beta/(alpha-1)nu. This means the objective function will include (beta/(alpha-1)nu - 0.5)^2.\n",
    "\n",
    "The expected value of the variance is 2.75, whose formula is beta/alpha-1. This means the objective function will include (beta/(alpha-1) - 2.75)^2.\n",
    "\n",
    "The standard deviation of variance is 1, whose formula is beta^2/(alpha-1)^2(alpha-2). This means the objective function will include (beta^2/(alpha-1)^2(alpha-2) - 1)^2\n",
    "\n",
    "The objective function will be the sum of the 4 quantities listed above."
   ]
  },
  {
   "cell_type": "code",
   "execution_count": 1,
   "metadata": {},
   "outputs": [],
   "source": [
    "from scipy.optimize import minimize"
   ]
  },
  {
   "cell_type": "code",
   "execution_count": 17,
   "metadata": {},
   "outputs": [
    {
     "name": "stdout",
     "output_type": "stream",
     "text": [
      "Started at [3 3 3 3]\n",
      "Finished at [ 2.29999987  5.5000036   9.56249983 23.54687433]\n",
      "f([ 2.29999987  5.5000036   9.56249983 23.54687433]) = 0.000000\n"
     ]
    }
   ],
   "source": [
    "#let mu, nu, alpha, beta be x[0], x[1], x[2], x[3] respectively\n",
    "def f(x):\n",
    "    return (x[0]-2.3)**2 + (x[3]/((x[2]-1)*x[1]) - 0.5)**2 + (x[3]/(x[2]-1) - 2.75)**2 + (x[3]**2/((x[2]-1)**2*(x[2]-2)) - 1)**2\n",
    "x_initial = np.array([3,3,3,3])\n",
    "result = minimize(f, x_initial)\n",
    "x_final = result.x\n",
    "print('Started at', x_initial)\n",
    "print('Finished at', x_final)\n",
    "print('f(%s) = %.6f' % (x_final, f(x_final))) \n",
    "#we see the error function which is the objective function returns 0, which is good"
   ]
  },
  {
   "cell_type": "code",
   "execution_count": 18,
   "metadata": {},
   "outputs": [],
   "source": [
    "'''\n",
    "Function definitions for the normal-inverse-gamma distribution. The parameters\n",
    "of the distribution, namely mu (μ), either lambda (λ) or nu (ν), alpha (α),\n",
    "beta (β), are used as defined here:\n",
    "\n",
    "  https://en.wikipedia.org/wiki/Normal-inverse-gamma_distribution\n",
    "\n",
    "Note that we use the symbol nu (ν) rather than lambda (λ) for the third\n",
    "parameter. This is to match the notation used in the conjugate priors table on\n",
    "Wikipedia:\n",
    "\n",
    "  https://en.wikipedia.org/wiki/Conjugate_prior#Table_of_conjugate_distributions\n",
    "'''\n",
    "\n",
    "def norminvgamma_pdf(x, sigma2, mu, nu, alpha, beta):\n",
    "    '''\n",
    "    The probability density function of the normal-inverse-gamma distribution at\n",
    "    x (mean) and sigma2 (variance).\n",
    "    '''\n",
    "    return (\n",
    "        sts.norm.pdf(x, loc=mu, scale=np.sqrt(sigma2 / nu)) *\n",
    "        sts.invgamma.pdf(sigma2, a=alpha, scale=beta))\n",
    "\n",
    "def norminvgamma_rvs(mu, nu, alpha, beta, size=1):\n",
    "    '''\n",
    "    Generate n samples from the normal-inverse-gamma distribution. This function\n",
    "    returns a (size x 2) matrix where each row contains a sample, (x, sigma2).\n",
    "    '''\n",
    "    # Sample sigma^2 from the inverse-gamma distribution\n",
    "    sigma2 = sts.invgamma.rvs(a=alpha, scale=beta, size=size)\n",
    "    # Sample x from the normal distribution\n",
    "    x = sts.norm.rvs(loc=mu, scale=np.sqrt(sigma2 / nu), size=size)\n",
    "    return np.vstack((x, sigma2)).transpose()"
   ]
  },
  {
   "cell_type": "markdown",
   "metadata": {},
   "source": [
    "## Task 1\n",
    "\n",
    "1. Generate 10 samples from the normal-inverse-gamma (NIG) distribution with parameters as\n",
    "   provided below.\n",
    "   \n",
    "   Each sample corresponds to the mean and variance of a normal\n",
    "   distribution.\n",
    "   \n",
    "   With these NIG parameters, the prior 95% confidence interval for\n",
    "   the mean is about [-10, 10] and for the variance [0.1, 10].\n",
    "   \n",
    "   In practice you would\n",
    "   work the other way around: use confidence intervals (or other information) to determine values for the\n",
    "   prior hyperparameters.\n",
    "\n",
    "\n",
    "2. Plot the 10 normal distributions corresponding to your 10 samples. To see the functions\n",
    "   clearly, plot your graphs on the domain [-15, 15].\n",
    "   \n",
    "   You should see that the 10 samples\n",
    "   (normal distributions) are all quite different. This means the prior is quite broad\n",
    "   (uncertain) over the mean and variance."
   ]
  },
  {
   "cell_type": "code",
   "execution_count": 19,
   "metadata": {},
   "outputs": [],
   "source": [
    "# Normal-inverse-gamma prior hyperparameters\n",
    "mu_0 = x_final[0]        # The prior mean is centered around 0.\n",
    "nu_0 = x_final[1]    # The smaller ν₀ is, the more uncertain we are about the prior mean.\n",
    "alpha_0 = x_final[2]  # α₀ and β₀ control the marginal prior over the variance.\n",
    "beta_0 = x_final[3]\n",
    "x = np.linspace(-10, 10, 200)\n",
    "sigma2 = np.linspace(0.1, 10, 200)\n",
    "list_of_results = []\n",
    "for i in range(10):\n",
    "    list_of_results.append(norminvgamma_rvs(mu_0, nu_0, alpha_0, beta_0, size=1))"
   ]
  },
  {
   "cell_type": "code",
   "execution_count": 20,
   "metadata": {},
   "outputs": [
    {
     "data": {
      "text/plain": [
       "[array([[2.36529358, 2.02082689]]),\n",
       " array([[1.12752322, 2.19195512]]),\n",
       " array([[3.21848422, 3.01434598]]),\n",
       " array([[3.71018383, 4.30718335]]),\n",
       " array([[2.97462228, 3.62857574]]),\n",
       " array([[1.80731773, 1.49757651]]),\n",
       " array([[1.70352911, 2.28063516]]),\n",
       " array([[2.76057543, 2.0989324 ]]),\n",
       " array([[1.83080553, 2.49967612]]),\n",
       " array([[2.67948224, 1.83376166]])]"
      ]
     },
     "execution_count": 20,
     "metadata": {},
     "output_type": "execute_result"
    }
   ],
   "source": [
    "list_of_results"
   ]
  },
  {
   "cell_type": "code",
   "execution_count": 21,
   "metadata": {},
   "outputs": [
    {
     "data": {
      "image/png": "[encoded data removed]",
      "text/plain": [
       "<Figure size 432x288 with 1 Axes>"
      ]
     },
     "metadata": {
      "needs_background": "light"
     },
     "output_type": "display_data"
    }
   ],
   "source": [
    "list_of_results\n",
    "for i in list_of_results:\n",
    "    plt.plot(x, sts.norm.pdf(x, i[0][0],i[0][1]))\n"
   ]
  },
  {
   "cell_type": "markdown",
   "metadata": {},
   "source": [
    "## Task 2\n",
    "\n",
    "Generate 1,000,000 samples from the normal-inverse-gamma prior above and calculate\n",
    "approximate 95% confidence intervals over the mean and the variance using the\n",
    "samples. You can use the `numpy.percentile` function for this.\n",
    "\n",
    "Your confidence intervals should approximately match the intervals [-10, 10] and [0.1, 10]."
   ]
  },
  {
   "cell_type": "code",
   "execution_count": 22,
   "metadata": {},
   "outputs": [],
   "source": [
    "list_samples=[]\n",
    "for i in range(1000000):\n",
    "    list_samples.append(norminvgamma_rvs(mu_0, nu_0, alpha_0, beta_0, size=1))"
   ]
  },
  {
   "cell_type": "code",
   "execution_count": 23,
   "metadata": {},
   "outputs": [],
   "source": [
    "list_of_means = []\n",
    "list_of_variance=[]\n",
    "for i in list_samples:\n",
    "    list_of_means.append(i[0][0])\n",
    "    list_of_variance.append(i[0][1])"
   ]
  },
  {
   "cell_type": "code",
   "execution_count": 24,
   "metadata": {},
   "outputs": [
    {
     "name": "stdout",
     "output_type": "stream",
     "text": [
      "Confidence interval for the mean is [0.8986159487972017, 3.698984653893463]\n"
     ]
    }
   ],
   "source": [
    "mean_025 = np.percentile(list_of_means, 2.5)\n",
    "mean_975 = np.percentile(list_of_means, 97.5)\n",
    "print(\"Confidence interval for the mean is\", [mean_025, mean_975])"
   ]
  },
  {
   "cell_type": "code",
   "execution_count": 25,
   "metadata": {},
   "outputs": [
    {
     "name": "stdout",
     "output_type": "stream",
     "text": [
      "Confidence interval for the variance is [1.4273527235811425, 5.226874651109507]\n"
     ]
    }
   ],
   "source": [
    "variance_025 = np.percentile(list_of_variance, 2.5)\n",
    "variance_975 = np.percentile(list_of_variance, 97.5)\n",
    "print(\"Confidence interval for the variance is\", [variance_025, variance_975])"
   ]
  },
  {
   "cell_type": "markdown",
   "metadata": {},
   "source": [
    "## Task 3\n",
    "Code the equations for calculating the posterior normal-inverse-gamma hyperparameters\n",
    "from the prior hyperparameters and data.\n",
    "\n",
    "The equations are found on found [Wikipedia](https://en.wikipedia.org/wiki/Conjugate_prior#Table_of_conjugate_distributions) and reproduced below, using $d_i$ for a datum.\n",
    "Note that $n$ is the number of data, and $\\overline{d}$ is the mean of the data.\n",
    "\n",
    "$$\n",
    "\\begin{align}\n",
    "  \\mu_{\\text{post}} &= \\frac{\\nu_0\\mu_0 + n\\overline{d}}{\\nu_0 + n} \\\\\n",
    "  \\nu_{\\text{post}} &= \\nu_0 + n \\\\\n",
    "  \\alpha_{\\text{post}} &= \\alpha_0 + \\frac{n}{2} \\\\\n",
    "  \\beta_{\\text{post}} &=\n",
    "     \\beta_0 +\n",
    "     \\frac{1}{2}\\sum_{i=1}^n (d_i-\\overline{d})^2 +\n",
    "     \\frac{n\\nu_0}{\\nu_0+n}\\frac{(\\overline{d}-\\mu_0)^2}{2}\n",
    "\\end{align}\n",
    "$$\n",
    "\n",
    "Once you have the update equations implemented, Bayesian inference is done!\n",
    "\n",
    " * The likelihood function is the normal distribution with unknown mean and variance.\n",
    " * The posterior distribution is of the same type as the prior – normal-inverse-gamma.\n",
    " * The posterior parameters below give you the exact posterior normal-inverse-gamma distribution.\n",
    " * No approximation or numerical integration is needed."
   ]
  },
  {
   "cell_type": "code",
   "execution_count": 26,
   "metadata": {},
   "outputs": [],
   "source": [
    "data = np.array([1, 2, 3, 4])  # In class you will get a larger data set.\n",
    "                               # This is just to get you started.\n",
    "n = len(data)\n",
    "d = np.mean(data)\n",
    "mu_post = (nu_0*mu_0 + n*d)/(nu_0+n)\n",
    "nu_post = nu_0 + n\n",
    "alpha_post = alpha_0 + n/2\n",
    "\n",
    "sum = 0\n",
    "for i in data:\n",
    "    sum += (i - d)**2\n",
    "\n",
    "beta_post = beta_0 + 0.5*sum + (n*nu_0)*(d-mu_0)**2 / (2*nu_0+2*n)"
   ]
  },
  {
   "cell_type": "code",
   "execution_count": 27,
   "metadata": {},
   "outputs": [
    {
     "name": "stdout",
     "output_type": "stream",
     "text": [
      "2.3842104193690083 9.500003600411997 11.562499833098894 26.093190191496006\n"
     ]
    }
   ],
   "source": [
    "print(mu_post, nu_post, alpha_post, beta_post)\n"
   ]
  },
  {
   "cell_type": "markdown",
   "metadata": {},
   "source": [
    "## Task 4 (optional)\n",
    "\n",
    "You are told that the prior information we used above is incorrect. Actually, the prior 95%\n",
    "confidence interval on the mean should be [-15, 15] and on the variance [0.5, 2]. So, the prior\n",
    "over the mean is less certain (broader) than we had before, but the prior over the variance is\n",
    "more certain (narrower).\n",
    "\n",
    "Determine prior hyperparameters for the normal-inverse-gamma distribution that match the\n",
    "prior information above."
   ]
  },
  {
   "cell_type": "code",
   "execution_count": null,
   "metadata": {},
   "outputs": [],
   "source": []
  }
 ],
 "metadata": {
  "kernelspec": {
   "display_name": "Python 3",
   "language": "python",
   "name": "python3"
  },
  "language_info": {
   "codemirror_mode": {
    "name": "ipython",
    "version": 3
   },
   "file_extension": ".py",
   "mimetype": "text/x-python",
   "name": "python",
   "nbconvert_exporter": "python",
   "pygments_lexer": "ipython3",
   "version": "3.8.3"
  }
 },
 "nbformat": 4,
 "nbformat_minor": 2
}
